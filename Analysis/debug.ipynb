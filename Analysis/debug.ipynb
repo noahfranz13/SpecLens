{
 "cells": [
  {
   "cell_type": "code",
   "execution_count": 14,
   "id": "05b0ac93-eed8-4681-a5a9-441a0b59c0b7",
   "metadata": {},
   "outputs": [],
   "source": [
    "import os\n",
    "\n",
    "import fitsio\n",
    "from astropy.table import Table\n",
    "import numpy as np\n",
    "\n",
    "from desispec.io.photo import gather_tractorphot, gather_targetphot"
   ]
  },
  {
   "cell_type": "code",
   "execution_count": 15,
   "id": "cf30d964-19d9-427c-a7c6-f9e304d73d3a",
   "metadata": {},
   "outputs": [
    {
     "name": "stdout",
     "output_type": "stream",
     "text": [
      "      TARGETID      COADD_FIBERSTATUS ... SV3_MWS_TARGET SV3_SCND_TARGET\n",
      "------------------- ----------------- ... -------------- ---------------\n",
      "2305843019040961021                 0 ...         999999          999999\n",
      "2305843036753496977                 0 ...         999999          999999\n",
      "2305843037504275119                 0 ...         999999          999999\n",
      "2305843037516861072                 0 ...         999999          999999\n",
      "  39627793029398840                 0 ...         999999          999999\n",
      "  39627805121581736                 0 ...         999999          999999\n",
      "  39627811132015677                 0 ...         999999          999999\n",
      "  39627829289156974                 0 ...         999999          999999\n",
      "  39627829284963340                 0 ...         999999          999999\n",
      "  39627847425328931                 0 ...         999999          999999\n",
      "                ...               ... ...            ...             ...\n",
      "  39627799832565155                 0 ...              0               0\n",
      "  39627811912155516                 0 ...              0               0\n",
      "  39627805876557766                 0 ...              0               0\n",
      "  39627817951956950                 0 ...              0               0\n",
      "  39627823970783252                 0 ...              0               0\n",
      "  39627823974977074                 0 ...              0               0\n",
      "  39627823991753113                 0 ...              0               0\n",
      "  39627817922593787                 0 ...              0               0\n",
      "  39627817922593606                 0 ...              0               0\n",
      "  39628384598229939                 0 ...              0               0\n",
      "  39628373642711121                 0 ...              0               0\n",
      "Length = 3010 rows\n",
      "/global/cfs/cdirs/desi/external/legacysurvey/dr9\n"
     ]
    }
   ],
   "source": [
    "specfile = '/global/cfs/cdirs/desi/users/nrfran/speclens/coadd-lenses.fits'\n",
    "meta = Table(fitsio.read(specfile, 'FIBERMAP'))\n",
    "\n",
    "TARGETCOLS = ['TARGETID', 'RA', 'DEC',\n",
    "              'RELEASE', 'LS_ID',\n",
    "              'FIBERFLUX_G', 'FIBERFLUX_R', 'FIBERFLUX_Z', \n",
    "              'FIBERTOTFLUX_G', 'FIBERTOTFLUX_R', 'FIBERTOTFLUX_Z', \n",
    "              'FLUX_G', 'FLUX_R', 'FLUX_Z', 'FLUX_W1', 'FLUX_W2', 'FLUX_W3', 'FLUX_W4',\n",
    "              'FLUX_IVAR_G', 'FLUX_IVAR_R', 'FLUX_IVAR_Z',\n",
    "              'FLUX_IVAR_W1', 'FLUX_IVAR_W2', 'FLUX_IVAR_W3', 'FLUX_IVAR_W4']\n",
    "\n",
    "print(input_meta)\n",
    "DR9_DIR_NERSC = '/global/cfs/cdirs/desi/external/legacysurvey/dr9'\n",
    "dr9dir = os.environ.get('DR9_DIR', DR9_DIR_NERSC)\n",
    "print(dr9dir)\n",
    "\n",
    "tractor = gather_tractorphot(meta, columns=TARGETCOLS, dr9dir=dr9dir)"
   ]
  },
  {
   "cell_type": "code",
   "execution_count": 16,
   "id": "3687fa1a-c67a-439f-af76-b2c75e270e30",
   "metadata": {},
   "outputs": [
    {
     "data": {
      "text/plain": [
       "True"
      ]
     },
     "execution_count": 16,
     "metadata": {},
     "output_type": "execute_result"
    }
   ],
   "source": [
    "np.all(input_meta['TARGETID'] == tractor['TARGETID'])"
   ]
  },
  {
   "cell_type": "code",
   "execution_count": null,
   "id": "8334cad9-33c3-4d96-9187-89abe7ea1ec7",
   "metadata": {},
   "outputs": [],
   "source": []
  }
 ],
 "metadata": {
  "kernelspec": {
   "display_name": "NERSC Python",
   "language": "python",
   "name": "python3"
  },
  "language_info": {
   "codemirror_mode": {
    "name": "ipython",
    "version": 3
   },
   "file_extension": ".py",
   "mimetype": "text/x-python",
   "name": "python",
   "nbconvert_exporter": "python",
   "pygments_lexer": "ipython3",
   "version": "3.9.7"
  }
 },
 "nbformat": 4,
 "nbformat_minor": 5
}
