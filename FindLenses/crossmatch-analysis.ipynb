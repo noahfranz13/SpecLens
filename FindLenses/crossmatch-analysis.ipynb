{
 "cells": [
  {
   "cell_type": "code",
   "execution_count": null,
   "id": "9ee7eaab-11fc-455c-b0f2-0fbf8f4a7c76",
   "metadata": {},
   "outputs": [],
   "source": [
    "import numpy as np\n",
    "import pandas as pd\n",
    "import matplotlib.pyplot as plt\n",
    "import seaborn as sns\n",
    "import fitsio\n",
    "\n",
    "import astropy.units as u\n",
    "import astropy.coordinates as coord\n",
    "from astropy.table import Table\n",
    "\n",
    "\n",
    "# Set some plotting environment variables\n",
    "sns.set(style='white', context='paper', palette='Set1')\n",
    "plt.rcParams[\"font.family\"] = \"serif\"\n",
    "plt.rcParams[\"figure.dpi\"] = 200\n",
    "plt.rcParams[\"axes.grid.which\"] = 'both'\n",
    "plt.rcParams['ytick.left'] = True\n",
    "plt.rcParams['xtick.bottom'] = True\n",
    "plt.rcParams['ytick.right'] = True\n",
    "plt.rcParams['xtick.top'] = True\n",
    "plt.rcParams['ytick.direction'] = 'in'\n",
    "plt.rcParams['xtick.direction'] = 'in'\n",
    "plt.rcParams['xtick.major.size'] = 4\n",
    "plt.rcParams['ytick.major.size'] = 4\n",
    "plt.rcParams['xtick.minor.size'] = 2\n",
    "plt.rcParams['ytick.minor.size'] = 2"
   ]
  },
  {
   "cell_type": "code",
   "execution_count": null,
   "id": "59c691f1-d7a2-4c0c-80bb-1b8ebdbbae79",
   "metadata": {},
   "outputs": [],
   "source": [
    "fuji = Table(fitsio.read('fuji-matches.fits')) # table of all matches\n",
    "iron = Table(fitsio.read('iron-matches.fits'))"
   ]
  },
  {
   "cell_type": "markdown",
   "id": "4164d56e-0443-429c-9894-35342410f8ca",
   "metadata": {},
   "source": [
    "# Let's explore the matches"
   ]
  },
  {
   "cell_type": "code",
   "execution_count": null,
   "id": "0d79f107-52fa-4cc4-b675-8a47e9f08725",
   "metadata": {},
   "outputs": [],
   "source": [
    "# histogram various values\n",
    "\n",
    "def fujiHist(key, table=fuji, **kwargs):\n",
    "    '''\n",
    "    key [str] : key that exists in the astropy Table\n",
    "    table [astropy Table] : to plot from\n",
    "    '''\n",
    "    \n",
    "    fig, ax = plt.subplots(1,1)\n",
    "    \n",
    "    ax.hist(table[key], color='cornflowerblue', **kwargs)\n",
    "    ax.set_ylabel('N')\n",
    "    ax.set_xlabel(key.lower().strip('_'))"
   ]
  },
  {
   "cell_type": "code",
   "execution_count": null,
   "id": "30325fc1-22f5-4e61-8b4e-00c9d44af2be",
   "metadata": {},
   "outputs": [],
   "source": [
    "fujiHist('Z', bins=50)\n",
    "fujiHist('TARGET_RA', bins=50)\n",
    "fujiHist('TARGET_DEC', bins=50)\n",
    "fujiHist('SPECTYPE', bins=3)"
   ]
  },
  {
   "cell_type": "markdown",
   "id": "caade2cf-cf34-47a5-a81b-e12acceb9d3f",
   "metadata": {},
   "source": [
    "# Plot Skymap"
   ]
  },
  {
   "cell_type": "code",
   "execution_count": null,
   "id": "d4f3c510-d2e7-43aa-9c9f-bbbc6e1deb48",
   "metadata": {},
   "outputs": [],
   "source": [
    "a = 0.5\n",
    "ms = 7\n",
    "key = 'SPECTYPE'#'SURVEY'\n",
    "\n",
    "fig = plt.figure(figsize=(12,12))\n",
    "ax = fig.add_subplot(111, projection=\"mollweide\")\n",
    "\n",
    "shapes = ['o', '^', 'X', 'x', '<', '>', 'v']\n",
    "\n",
    "for val, s in zip(np.unique(fuji[key]), shapes):\n",
    "\n",
    "    ff = fuji[fuji[key] == val]\n",
    "    \n",
    "    targRA = coord.Angle((ff['TARGET_RA']+180)*u.deg)\n",
    "    targDec = coord.Angle(ff['TARGET_DEC']*u.deg)\n",
    "\n",
    "    targRA = targRA.wrap_at(180*u.deg)\n",
    "\n",
    "    ax.plot(targRA.radian, targDec.radian, s, label=val, zorder=2, markersize=ms, alpha=a)\n",
    "\n",
    "ax.grid()\n",
    "ax.set_xticklabels([])\n",
    "ax.set_xlabel('Right Ascension')\n",
    "ax.set_ylabel('Declination')\n",
    "_=ax.legend(loc='upper right')\n",
    "fig.savefig('mollweide-projection-matches.png', bbox_inches='tight', transparent=False)"
   ]
  },
  {
   "cell_type": "code",
   "execution_count": null,
   "id": "05640eff-0e66-41be-93a3-49faa0a793c6",
   "metadata": {},
   "outputs": [],
   "source": [
    "a = 0.5\n",
    "ms = 7\n",
    "key = 'SPECTYPE'#'SURVEY'\n",
    "\n",
    "fig = plt.figure(figsize=(12,12))\n",
    "ax = fig.add_subplot(111, projection=\"mollweide\")\n",
    "\n",
    "shapes = ['o', '^', 'X', 'x', '<', '>', 'v']\n",
    "\n",
    "for val, s in zip(np.unique(iron[key]), shapes):\n",
    "\n",
    "    ff = iron[iron[key] == val]\n",
    "    \n",
    "    targRA = coord.Angle((ff['TARGET_RA']+180)*u.deg)\n",
    "    targDec = coord.Angle(ff['TARGET_DEC']*u.deg)\n",
    "\n",
    "    targRA = targRA.wrap_at(180*u.deg)\n",
    "\n",
    "    ax.plot(targRA.radian, targDec.radian, s, label=val, zorder=2, markersize=ms, alpha=a)\n",
    "\n",
    "ax.grid()\n",
    "ax.set_xticklabels([])\n",
    "ax.set_xlabel('Right Ascension')\n",
    "ax.set_ylabel('Declination')\n",
    "_=ax.legend(loc='upper right')\n",
    "fig.savefig('mollweide-projection-matches.png', bbox_inches='tight', transparent=False)"
   ]
  },
  {
   "cell_type": "code",
   "execution_count": null,
   "id": "0cf85c41-8353-4db7-b838-b32e697eff7e",
   "metadata": {},
   "outputs": [],
   "source": []
  }
 ],
 "metadata": {
  "kernelspec": {
   "display_name": "DESI master",
   "language": "python",
   "name": "desi-master"
  },
  "language_info": {
   "codemirror_mode": {
    "name": "ipython",
    "version": 3
   },
   "file_extension": ".py",
   "mimetype": "text/x-python",
   "name": "python",
   "nbconvert_exporter": "python",
   "pygments_lexer": "ipython3",
   "version": "3.9.7"
  }
 },
 "nbformat": 4,
 "nbformat_minor": 5
}
