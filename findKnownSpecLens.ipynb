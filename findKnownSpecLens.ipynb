{
 "cells": [
  {
   "cell_type": "code",
   "execution_count": 1,
   "id": "61a2fcb8-87ad-4d30-8d48-22f67e34a5ba",
   "metadata": {},
   "outputs": [],
   "source": [
    "import os\n",
    "import numpy as np\n",
    "import pandas as pd\n",
    "\n",
    "import matplotlib.pyplot as plt \n",
    "import seaborn as sb\n",
    "sb.set(style='white', context='talk', palette='Set1')\n",
    "plt.rcParams[\"font.family\"] = \"serif\"\n",
    "plt.rcParams[\"figure.dpi\"] = 200\n",
    "plt.rcParams[\"axes.grid.which\"] = 'both'\n",
    "plt.rcParams['ytick.left'] = True\n",
    "plt.rcParams['xtick.bottom'] = True\n",
    "plt.rcParams['ytick.right'] = True\n",
    "plt.rcParams['xtick.top'] = True\n",
    "plt.rcParams['ytick.direction'] = 'in'\n",
    "plt.rcParams['xtick.direction'] = 'in'\n",
    "plt.rcParams['xtick.major.size'] = 4\n",
    "plt.rcParams['ytick.major.size'] = 4\n",
    "plt.rcParams['xtick.minor.size'] = 2\n",
    "plt.rcParams['ytick.minor.size'] = 2\n",
    "\n",
    "import matplotlib as mpl\n",
    "mpl.use('agg') # use non-gui version to prevent memory leak\n",
    "\n",
    "import fitsio\n",
    "from astropy.table import Table\n",
    "from astropy.io import fits\n",
    "from desitarget.sv3 import sv3_targetmask as targetmask\n",
    "from desispec.io import specprod_root, read_spectra\n",
    "from astropy.convolution import convolve, Gaussian1DKernel"
   ]
  },
  {
   "cell_type": "code",
   "execution_count": 2,
   "id": "0d576184-84aa-4a6e-9cef-a959eb707726",
   "metadata": {},
   "outputs": [],
   "source": [
    "# get list of secondary target observations \n",
    "\n",
    "fastfile = '/global/cfs/cdirs/desi/spectro/fastspecfit/fuji/catalogs/fastspec-fuji.fits'\n",
    "meta = Table(fitsio.read(fastfile, 'METADATA'))\n",
    "strongLensTargs = meta[meta['SV3_SCND_TARGET'] & targetmask.scnd_mask['STRONG_LENS'] != 0]"
   ]
  },
  {
   "cell_type": "code",
   "execution_count": 3,
   "id": "7fd36775-0ba9-4444-a7bb-80cab86baba6",
   "metadata": {},
   "outputs": [
    {
     "data": {
      "text/html": [
       "<div><i>Table length=118</i>\n",
       "<table id=\"table23456038452576\" class=\"table-striped table-bordered table-condensed\">\n",
       "<thead><tr><th>TARGETID</th><th>SURVEY</th><th>PROGRAM</th><th>HEALPIX</th><th>TILEID_LIST</th><th>RA</th><th>DEC</th><th>COADD_FIBERSTATUS</th><th>CMX_TARGET</th><th>DESI_TARGET</th><th>BGS_TARGET</th><th>MWS_TARGET</th><th>SCND_TARGET</th><th>SV1_DESI_TARGET</th><th>SV1_BGS_TARGET</th><th>SV1_MWS_TARGET</th><th>SV2_DESI_TARGET</th><th>SV2_BGS_TARGET</th><th>SV2_MWS_TARGET</th><th>SV3_DESI_TARGET</th><th>SV3_BGS_TARGET</th><th>SV3_MWS_TARGET</th><th>SV1_SCND_TARGET</th><th>SV2_SCND_TARGET</th><th>SV3_SCND_TARGET</th><th>Z</th><th>ZWARN</th><th>DELTACHI2</th><th>SPECTYPE</th><th>Z_RR</th><th>PHOTSYS</th><th>LS_ID</th><th>FIBERFLUX_G</th><th>FIBERFLUX_R</th><th>FIBERFLUX_Z</th><th>FIBERTOTFLUX_G</th><th>FIBERTOTFLUX_R</th><th>FIBERTOTFLUX_Z</th><th>FLUX_G</th><th>FLUX_R</th><th>FLUX_Z</th><th>FLUX_W1</th><th>FLUX_W2</th><th>FLUX_W3</th><th>FLUX_W4</th><th>FLUX_IVAR_G</th><th>FLUX_IVAR_R</th><th>FLUX_IVAR_Z</th><th>FLUX_IVAR_W1</th><th>FLUX_IVAR_W2</th><th>FLUX_IVAR_W3</th><th>FLUX_IVAR_W4</th><th>EBV</th><th>MW_TRANSMISSION_G</th><th>MW_TRANSMISSION_R</th><th>MW_TRANSMISSION_Z</th><th>MW_TRANSMISSION_W1</th><th>MW_TRANSMISSION_W2</th><th>MW_TRANSMISSION_W3</th><th>MW_TRANSMISSION_W4</th></tr></thead>\n",
       "<thead><tr><th>int64</th><th>str7</th><th>str6</th><th>int32</th><th>str47</th><th>float64</th><th>float64</th><th>int32</th><th>int64</th><th>int64</th><th>int64</th><th>int64</th><th>int64</th><th>int64</th><th>int64</th><th>int64</th><th>int64</th><th>int64</th><th>int64</th><th>int64</th><th>int64</th><th>int64</th><th>int64</th><th>int64</th><th>int64</th><th>float64</th><th>int64</th><th>float64</th><th>str6</th><th>float64</th><th>str1</th><th>int64</th><th>float32</th><th>float32</th><th>float32</th><th>float32</th><th>float32</th><th>float32</th><th>float32</th><th>float32</th><th>float32</th><th>float32</th><th>float32</th><th>float32</th><th>float32</th><th>float32</th><th>float32</th><th>float32</th><th>float32</th><th>float32</th><th>float32</th><th>float32</th><th>float32</th><th>float32</th><th>float32</th><th>float32</th><th>float32</th><th>float32</th><th>float32</th><th>float32</th></tr></thead>\n",
       "<tr><td>1030495378866177</td><td>sv3</td><td>dark</td><td>26272</td><td>64</td><td>183.0992032053518</td><td>-1.5519835824353705</td><td>0</td><td>0</td><td>0</td><td>0</td><td>0</td><td>0</td><td>0</td><td>0</td><td>0</td><td>0</td><td>0</td><td>0</td><td>4611686018427387904</td><td>0</td><td>0</td><td>0</td><td>0</td><td>17179869184</td><td>0.9886868208465972</td><td>0</td><td>41.370555102825165</td><td>GALAXY</td><td>0.9886868208465972</td><td>S</td><td>9906620899002748</td><td>0.47704318</td><td>0.6450162</td><td>1.3858296</td><td>0.5075055</td><td>0.67248464</td><td>1.4185524</td><td>1.2384351</td><td>1.6410239</td><td>3.4616082</td><td>19.312368</td><td>14.830715</td><td>59.102585</td><td>4189.935</td><td>426.2214</td><td>261.88168</td><td>57.043575</td><td>1.6475109</td><td>0.44596</td><td>0.00041837306</td><td>8.161424e-06</td><td>0.020923926</td><td>0.9399764</td><td>0.9591538</td><td>0.9769323</td><td>0.9964603</td><td>0.99782467</td><td>0.9995357</td><td>0.99982464</td></tr>\n",
       "<tr><td>1030495978651648</td><td>sv3</td><td>dark</td><td>25934</td><td>254</td><td>218.82868695999053</td><td>-1.4239743152821387</td><td>0</td><td>0</td><td>0</td><td>0</td><td>0</td><td>0</td><td>0</td><td>0</td><td>0</td><td>0</td><td>0</td><td>0</td><td>4611686018427387904</td><td>0</td><td>0</td><td>0</td><td>0</td><td>17179869184</td><td>0.7552786543004375</td><td>0</td><td>20.647511329501867</td><td>GALAXY</td><td>0.7552786543004375</td><td>S</td><td>9906620908373728</td><td>0.3527567</td><td>0.6940531</td><td>2.2230496</td><td>0.39786902</td><td>0.7526703</td><td>2.3262386</td><td>0.7178599</td><td>1.3580143</td><td>4.1971436</td><td>13.118159</td><td>7.1574516</td><td>-11.265225</td><td>221.51854</td><td>703.0262</td><td>166.76718</td><td>70.138176</td><td>2.8055162</td><td>0.67232096</td><td>0.0014525923</td><td>2.044261e-05</td><td>0.04067937</td><td>0.88661516</td><td>0.92212105</td><td>0.9556413</td><td>0.9931298</td><td>0.99577516</td><td>0.99909747</td><td>0.9996591</td></tr>\n",
       "<tr><td>1030495978651649</td><td>sv3</td><td>dark</td><td>25934</td><td>469</td><td>218.82868695999053</td><td>-1.4239743152821387</td><td>0</td><td>0</td><td>0</td><td>0</td><td>0</td><td>0</td><td>0</td><td>0</td><td>0</td><td>0</td><td>0</td><td>0</td><td>4611686018427387904</td><td>0</td><td>0</td><td>0</td><td>0</td><td>17179869184</td><td>1.2252943755381192</td><td>0</td><td>192.01483857631683</td><td>GALAXY</td><td>1.2252943755381192</td><td>S</td><td>9906620908373728</td><td>0.3527567</td><td>0.6940531</td><td>2.2230496</td><td>0.39786902</td><td>0.7526703</td><td>2.3262386</td><td>0.7178599</td><td>1.3580143</td><td>4.1971436</td><td>13.118159</td><td>7.1574516</td><td>-11.265225</td><td>221.51854</td><td>703.0262</td><td>166.76718</td><td>70.138176</td><td>2.8055162</td><td>0.67232096</td><td>0.0014525923</td><td>2.044261e-05</td><td>0.04067937</td><td>0.88661516</td><td>0.92212105</td><td>0.9556413</td><td>0.9931298</td><td>0.99577516</td><td>0.99909747</td><td>0.9996591</td></tr>\n",
       "<tr><td>1030507391352832</td><td>sv3</td><td>dark</td><td>25598</td><td>37</td><td>179.05473660408262</td><td>-1.0338561490522171</td><td>0</td><td>0</td><td>0</td><td>0</td><td>0</td><td>0</td><td>0</td><td>0</td><td>0</td><td>0</td><td>0</td><td>0</td><td>4611686018427387904</td><td>0</td><td>0</td><td>0</td><td>0</td><td>17179869184</td><td>0.42430836551677187</td><td>0</td><td>828.8541619591415</td><td>GALAXY</td><td>0.42430836551677187</td><td>S</td><td>9906621086696600</td><td>0.82633764</td><td>4.174602</td><td>10.330083</td><td>0.88873345</td><td>4.3844404</td><td>10.617518</td><td>4.096209</td><td>20.208067</td><td>48.93658</td><td>82.3844</td><td>48.75848</td><td>-13.012921</td><td>1354.9388</td><td>115.25883</td><td>41.92285</td><td>7.286568</td><td>0.99991137</td><td>0.27193624</td><td>0.0004319813</td><td>7.1654727e-06</td><td>0.024606165</td><td>0.9297924</td><td>0.9521402</td><td>0.97292817</td><td>0.99583864</td><td>0.99744236</td><td>0.99945396</td><td>0.99979377</td></tr>\n",
       "<tr><td>1030507391352833</td><td>sv3</td><td>dark</td><td>25598</td><td>38</td><td>179.05530757612814</td><td>-1.0304179940984914</td><td>0</td><td>0</td><td>0</td><td>0</td><td>0</td><td>0</td><td>0</td><td>0</td><td>0</td><td>0</td><td>0</td><td>0</td><td>4611686018427387904</td><td>0</td><td>0</td><td>0</td><td>0</td><td>17179869184</td><td>1.4874464141342096</td><td>4</td><td>8.845336608588696</td><td>GALAXY</td><td>1.4874464141342096</td><td>S</td><td>9906621086696611</td><td>0.07715453</td><td>0.15995234</td><td>0.60885906</td><td>0.08302677</td><td>0.16805568</td><td>0.6259325</td><td>0.22725594</td><td>0.45999205</td><td>1.7132653</td><td>23.79166</td><td>25.288712</td><td>22.971962</td><td>-1266.7017</td><td>390.58636</td><td>165.20982</td><td>24.59277</td><td>1.9671621</td><td>0.4679887</td><td>0.000669508</td><td>9.107899e-06</td><td>0.024795065</td><td>0.92927295</td><td>0.9517818</td><td>0.9727232</td><td>0.9958068</td><td>0.99742275</td><td>0.9994498</td><td>0.9997922</td></tr>\n",
       "<tr><td>1030507408130048</td><td>sv3</td><td>dark</td><td>25599</td><td>34</td><td>180.1889661147553</td><td>-0.9613644465384479</td><td>0</td><td>0</td><td>0</td><td>0</td><td>0</td><td>0</td><td>0</td><td>0</td><td>0</td><td>0</td><td>0</td><td>0</td><td>4611686018427387904</td><td>0</td><td>0</td><td>0</td><td>0</td><td>17179869184</td><td>0.6367214865921862</td><td>0</td><td>133.98583871871233</td><td>GALAXY</td><td>0.6367214865921862</td><td>S</td><td>9906621086961894</td><td>0.26557</td><td>0.8115323</td><td>2.7239323</td><td>0.2855533</td><td>0.8521845</td><td>2.7994688</td><td>0.5220129</td><td>1.5578572</td><td>5.117639</td><td>15.674297</td><td>7.9193354</td><td>33.547913</td><td>892.2386</td><td>756.7053</td><td>309.37167</td><td>58.32777</td><td>2.6567097</td><td>0.54893786</td><td>0.0007491013</td><td>1.0041203e-05</td><td>0.0245238</td><td>0.930019</td><td>0.9522965</td><td>0.9730176</td><td>0.9958526</td><td>0.9974509</td><td>0.9994558</td><td>0.9997945</td></tr>\n",
       "<tr><td>1030507408130049</td><td>sv3</td><td>dark</td><td>25599</td><td>445</td><td>180.1889661147553</td><td>-0.9613644465384479</td><td>0</td><td>0</td><td>0</td><td>0</td><td>0</td><td>0</td><td>0</td><td>0</td><td>0</td><td>0</td><td>0</td><td>0</td><td>4611686018427387904</td><td>0</td><td>0</td><td>0</td><td>0</td><td>17179869184</td><td>0.20312880666610642</td><td>4</td><td>0.17713667079806328</td><td>GALAXY</td><td>0.20312880666610642</td><td>S</td><td>9906621086961894</td><td>0.26557</td><td>0.8115323</td><td>2.7239323</td><td>0.2855533</td><td>0.8521845</td><td>2.7994688</td><td>0.5220129</td><td>1.5578572</td><td>5.117639</td><td>15.674297</td><td>7.9193354</td><td>33.547913</td><td>892.2386</td><td>756.7053</td><td>309.37167</td><td>58.32777</td><td>2.6567097</td><td>0.54893786</td><td>0.0007491013</td><td>1.0041203e-05</td><td>0.0245238</td><td>0.930019</td><td>0.9522965</td><td>0.9730176</td><td>0.9958526</td><td>0.9974509</td><td>0.9994558</td><td>0.9997945</td></tr>\n",
       "<tr><td>1030507957583872</td><td>sv3</td><td>dark</td><td>25918</td><td>519</td><td>212.9021800045884</td><td>-1.0377897085650423</td><td>0</td><td>0</td><td>0</td><td>0</td><td>0</td><td>0</td><td>0</td><td>0</td><td>0</td><td>0</td><td>0</td><td>0</td><td>4611686018427387904</td><td>0</td><td>0</td><td>0</td><td>0</td><td>17179869184</td><td>0.947706890190643</td><td>0</td><td>111.80942503362894</td><td>GALAXY</td><td>0.947706890190643</td><td>S</td><td>9906621095546163</td><td>0.49581316</td><td>0.8059072</td><td>2.5857854</td><td>0.5857005</td><td>0.9016418</td><td>2.7534235</td><td>1.7385721</td><td>2.6764007</td><td>8.1731615</td><td>39.79883</td><td>14.128256</td><td>134.02744</td><td>-4538.104</td><td>387.41827</td><td>160.18127</td><td>25.00258</td><td>2.5783417</td><td>0.64691174</td><td>0.0012493298</td><td>2.0660545e-05</td><td>0.056318156</td><td>0.84653014</td><td>0.89382195</td><td>0.93911654</td><td>0.99050117</td><td>0.9941557</td><td>0.9987507</td><td>0.9995281</td></tr>\n",
       "<tr><td>1030513426956289</td><td>sv3</td><td>dark</td><td>26964</td><td>38</td><td>178.872148089275</td><td>-0.7152377651310178</td><td>0</td><td>0</td><td>0</td><td>0</td><td>0</td><td>0</td><td>0</td><td>0</td><td>0</td><td>0</td><td>0</td><td>0</td><td>4611686018427387904</td><td>0</td><td>0</td><td>0</td><td>0</td><td>17179869184</td><td>1.4191405655981368</td><td>4</td><td>4.8336038291454315</td><td>GALAXY</td><td>1.4191405655981368</td><td>S</td><td>9906621181004646</td><td>0.1177224</td><td>0.15347199</td><td>0.075093225</td><td>0.12734419</td><td>0.16181418</td><td>0.0773508</td><td>0.16355698</td><td>0.20782918</td><td>0.09934699</td><td>1.9401722</td><td>5.212576</td><td>-99.35485</td><td>-6805.2505</td><td>1056.9327</td><td>647.6688</td><td>178.11919</td><td>2.1807296</td><td>0.5554902</td><td>0.00076741556</td><td>1.0858074e-05</td><td>0.026556684</td><td>0.92444265</td><td>0.94844586</td><td>0.9708138</td><td>0.99550956</td><td>0.9972399</td><td>0.9994107</td><td>0.99977744</td></tr>\n",
       "<tr><td>1030514068684801</td><td>sv3</td><td>dark</td><td>25953</td><td>225</td><td>217.0484</td><td>-0.8398</td><td>0</td><td>0</td><td>0</td><td>0</td><td>0</td><td>0</td><td>0</td><td>0</td><td>0</td><td>0</td><td>0</td><td>0</td><td>4611686018427387904</td><td>0</td><td>0</td><td>0</td><td>0</td><td>17179869184</td><td>0.4594031061600782</td><td>4</td><td>1.4752883613109589</td><td>GALAXY</td><td>0.4594031061600782</td><td>S</td><td>0</td><td>0.0</td><td>0.0</td><td>0.0</td><td>0.0</td><td>0.0</td><td>0.0</td><td>0.0</td><td>0.0</td><td>0.0</td><td>0.0</td><td>0.0</td><td>0.0</td><td>0.0</td><td>0.0</td><td>0.0</td><td>0.0</td><td>0.0</td><td>0.0</td><td>0.0</td><td>0.0</td><td>0.04167955</td><td>0.8839956</td><td>0.9202846</td><td>0.95457584</td><td>0.99296147</td><td>0.9956715</td><td>0.9990753</td><td>0.9996507</td></tr>\n",
       "<tr><td>...</td><td>...</td><td>...</td><td>...</td><td>...</td><td>...</td><td>...</td><td>...</td><td>...</td><td>...</td><td>...</td><td>...</td><td>...</td><td>...</td><td>...</td><td>...</td><td>...</td><td>...</td><td>...</td><td>...</td><td>...</td><td>...</td><td>...</td><td>...</td><td>...</td><td>...</td><td>...</td><td>...</td><td>...</td><td>...</td><td>...</td><td>...</td><td>...</td><td>...</td><td>...</td><td>...</td><td>...</td><td>...</td><td>...</td><td>...</td><td>...</td><td>...</td><td>...</td><td>...</td><td>...</td><td>...</td><td>...</td><td>...</td><td>...</td><td>...</td><td>...</td><td>...</td><td>...</td><td>...</td><td>...</td><td>...</td><td>...</td><td>...</td><td>...</td><td>...</td></tr>\n",
       "<tr><td>39633153987445917</td><td>sv3</td><td>dark</td><td>9839</td><td>327</td><td>239.98973588421725</td><td>44.26213646395491</td><td>0</td><td>0</td><td>0</td><td>0</td><td>0</td><td>0</td><td>0</td><td>0</td><td>0</td><td>0</td><td>0</td><td>0</td><td>4611686018427396361</td><td>0</td><td>0</td><td>0</td><td>0</td><td>17179869184</td><td>0.5976626970999837</td><td>0</td><td>799.0564895793796</td><td>GALAXY</td><td>0.5976626970999837</td><td>N</td><td>9907736104076445</td><td>0.5811218</td><td>2.608153</td><td>11.08601</td><td>0.6038152</td><td>2.6757452</td><td>11.243406</td><td>1.5097121</td><td>6.6901355</td><td>28.111761</td><td>187.01138</td><td>169.03622</td><td>53.087135</td><td>620.05444</td><td>310.61496</td><td>74.55241</td><td>30.556513</td><td>1.5590222</td><td>0.56470096</td><td>0.0039045925</td><td>4.7145815e-05</td><td>0.012766156</td><td>0.9624167</td><td>0.974739</td><td>0.986001</td><td>0.99783885</td><td>0.99867225</td><td>0.9997167</td><td>0.999893</td></tr>\n",
       "<tr><td>39633158307580197</td><td>sv3</td><td>dark</td><td>9839</td><td>328</td><td>239.62575691444835</td><td>44.5610075721773</td><td>0</td><td>0</td><td>0</td><td>0</td><td>0</td><td>0</td><td>0</td><td>0</td><td>0</td><td>0</td><td>0</td><td>0</td><td>4611686018427396361</td><td>0</td><td>0</td><td>0</td><td>0</td><td>17179869184</td><td>0.6076388661650616</td><td>0</td><td>628.1285034194589</td><td>GALAXY</td><td>0.6076388661650616</td><td>N</td><td>9907736171579685</td><td>0.5467075</td><td>2.3361063</td><td>8.035887</td><td>0.57139355</td><td>2.406041</td><td>8.1675625</td><td>2.3741434</td><td>9.997112</td><td>33.936264</td><td>112.907074</td><td>83.410736</td><td>164.64886</td><td>4283.955</td><td>110.11167</td><td>28.877012</td><td>19.747046</td><td>1.7038835</td><td>0.6971199</td><td>0.0025270141</td><td>3.5782443e-05</td><td>0.014717849</td><td>0.95679677</td><td>0.97093374</td><td>0.98387814</td><td>0.9975089</td><td>0.9984694</td><td>0.99967337</td><td>0.9998767</td></tr>\n",
       "<tr><td>39633275227997573</td><td>sv3</td><td>dark</td><td>11401</td><td>165</td><td>217.20901559432608</td><td>51.64674703274217</td><td>0</td><td>0</td><td>0</td><td>0</td><td>0</td><td>0</td><td>0</td><td>0</td><td>0</td><td>0</td><td>0</td><td>0</td><td>4611686018427396361</td><td>0</td><td>0</td><td>0</td><td>0</td><td>17179869184</td><td>0.7262490033509805</td><td>0</td><td>371.10102810896933</td><td>GALAXY</td><td>0.7262490033509805</td><td>N</td><td>9907737998460293</td><td>0.17766778</td><td>1.1131883</td><td>4.5106645</td><td>0.18462959</td><td>1.1421353</td><td>4.574922</td><td>0.7291138</td><td>4.5103636</td><td>18.066654</td><td>59.324444</td><td>21.252426</td><td>-58.354908</td><td>4520.716</td><td>106.909615</td><td>31.654715</td><td>12.064397</td><td>2.2208824</td><td>0.82008266</td><td>0.0025690412</td><td>3.541094e-05</td><td>0.012808951</td><td>0.9622931</td><td>0.9746554</td><td>0.9859544</td><td>0.99783164</td><td>0.9986678</td><td>0.99971575</td><td>0.99989265</td></tr>\n",
       "<tr><td>39633290038086559</td><td>sv3</td><td>bright</td><td>11426</td><td>175 177 180 181</td><td>213.99251696673724</td><td>52.66538171243982</td><td>0</td><td>0</td><td>0</td><td>0</td><td>0</td><td>0</td><td>0</td><td>0</td><td>0</td><td>0</td><td>0</td><td>0</td><td>5764607523034243337</td><td>257</td><td>0</td><td>0</td><td>0</td><td>17179869184</td><td>0.5277644245894546</td><td>0</td><td>1551.886090207845</td><td>GALAXY</td><td>0.5277644245894546</td><td>N</td><td>9907738229869471</td><td>0.8949031</td><td>4.942292</td><td>15.319823</td><td>0.9250437</td><td>5.0528555</td><td>15.507727</td><td>2.310981</td><td>12.623246</td><td>38.742023</td><td>97.661606</td><td>56.472466</td><td>46.097008</td><td>1034.4075</td><td>209.56151</td><td>76.40638</td><td>42.166412</td><td>2.2329657</td><td>0.92057043</td><td>0.0017744906</td><td>2.182802e-05</td><td>0.011039151</td><td>0.9674171</td><td>0.9781186</td><td>0.98788327</td><td>0.9981309</td><td>0.9988517</td><td>0.99975497</td><td>0.9999075</td></tr>\n",
       "<tr><td>39633290038086559</td><td>sv3</td><td>dark</td><td>11426</td><td>167 168</td><td>213.99251696673724</td><td>52.66538171243982</td><td>0</td><td>0</td><td>0</td><td>0</td><td>0</td><td>0</td><td>0</td><td>0</td><td>0</td><td>0</td><td>0</td><td>0</td><td>5764607523034243337</td><td>257</td><td>0</td><td>0</td><td>0</td><td>17179869184</td><td>0.5275463365677217</td><td>0</td><td>1190.6119003854692</td><td>GALAXY</td><td>0.5275463365677217</td><td>N</td><td>9907738229869471</td><td>0.8949031</td><td>4.942292</td><td>15.319823</td><td>0.9250437</td><td>5.0528555</td><td>15.507727</td><td>2.310981</td><td>12.623246</td><td>38.742023</td><td>97.661606</td><td>56.472466</td><td>46.097008</td><td>1034.4075</td><td>209.56151</td><td>76.40638</td><td>42.166412</td><td>2.2329657</td><td>0.92057043</td><td>0.0017744906</td><td>2.182802e-05</td><td>0.011039151</td><td>0.9674171</td><td>0.9781186</td><td>0.98788327</td><td>0.9981309</td><td>0.9988517</td><td>0.99975497</td><td>0.9999075</td></tr>\n",
       "<tr><td>39633300964245984</td><td>sv3</td><td>dark</td><td>11425</td><td>165</td><td>214.800626471102</td><td>53.43655859039402</td><td>0</td><td>0</td><td>0</td><td>0</td><td>0</td><td>0</td><td>0</td><td>0</td><td>0</td><td>0</td><td>0</td><td>0</td><td>5764607523034243337</td><td>514</td><td>0</td><td>0</td><td>0</td><td>17179869184</td><td>0.63764550365561</td><td>0</td><td>615.0219077840447</td><td>GALAXY</td><td>0.63764550365561</td><td>N</td><td>9907738400588256</td><td>0.28120208</td><td>1.7666441</td><td>6.8431253</td><td>0.2897565</td><td>1.8023598</td><td>6.9190125</td><td>3.6508746</td><td>22.709377</td><td>87.178185</td><td>228.95607</td><td>106.39175</td><td>132.0011</td><td>-5892.103</td><td>17.64174</td><td>5.006435</td><td>1.6454458</td><td>0.48800135</td><td>0.20993756</td><td>0.0006059007</td><td>1.1641051e-05</td><td>0.009986716</td><td>0.97047716</td><td>0.9801839</td><td>0.9890321</td><td>0.99830896</td><td>0.99896115</td><td>0.99977833</td><td>0.9999163</td></tr>\n",
       "<tr><td>39633300964245984</td><td>sv3</td><td>bright</td><td>11425</td><td>175</td><td>214.800626471102</td><td>53.43655859039402</td><td>0</td><td>0</td><td>0</td><td>0</td><td>0</td><td>0</td><td>0</td><td>0</td><td>0</td><td>0</td><td>0</td><td>0</td><td>5764607523034243337</td><td>514</td><td>0</td><td>0</td><td>0</td><td>17179869184</td><td>0.6366950600661798</td><td>0</td><td>96.35285214334726</td><td>GALAXY</td><td>0.6366950600661798</td><td>N</td><td>9907738400588256</td><td>0.28120208</td><td>1.7666441</td><td>6.8431253</td><td>0.2897565</td><td>1.8023598</td><td>6.9190125</td><td>3.6508746</td><td>22.709377</td><td>87.178185</td><td>228.95607</td><td>106.39175</td><td>132.0011</td><td>-5892.103</td><td>17.64174</td><td>5.006435</td><td>1.6454458</td><td>0.48800135</td><td>0.20993756</td><td>0.0006059007</td><td>1.1641051e-05</td><td>0.009986716</td><td>0.97047716</td><td>0.9801839</td><td>0.9890321</td><td>0.99830896</td><td>0.99896115</td><td>0.99977833</td><td>0.9999163</td></tr>\n",
       "<tr><td>39633315505900572</td><td>sv3</td><td>dark</td><td>10150</td><td>303</td><td>244.58566754955294</td><td>54.505202948125</td><td>0</td><td>0</td><td>0</td><td>0</td><td>0</td><td>0</td><td>0</td><td>0</td><td>0</td><td>0</td><td>0</td><td>0</td><td>4611686018427396361</td><td>0</td><td>0</td><td>0</td><td>0</td><td>17179869184</td><td>0.7939559460470409</td><td>0</td><td>319.48017328232527</td><td>GALAXY</td><td>0.7939559460470409</td><td>N</td><td>9907738627804188</td><td>0.22209759</td><td>0.7913206</td><td>3.8038275</td><td>0.22965772</td><td>0.8092111</td><td>3.8509755</td><td>0.74754083</td><td>2.6339996</td><td>12.535009</td><td>48.04841</td><td>25.423466</td><td>-138.31773</td><td>743.299</td><td>233.69028</td><td>60.677586</td><td>30.86997</td><td>2.9678285</td><td>1.2531694</td><td>0.005893458</td><td>7.6658354e-05</td><td>0.011155012</td><td>0.96708083</td><td>0.9778915</td><td>0.98775685</td><td>0.99811137</td><td>0.9988397</td><td>0.9997524</td><td>0.9999065</td></tr>\n",
       "<tr><td>39633319012338746</td><td>sv3</td><td>dark</td><td>10150</td><td>298</td><td>244.6469691445192</td><td>54.82307666723013</td><td>0</td><td>0</td><td>0</td><td>0</td><td>0</td><td>0</td><td>0</td><td>0</td><td>0</td><td>0</td><td>0</td><td>0</td><td>4611686018427396361</td><td>0</td><td>0</td><td>0</td><td>0</td><td>17179869184</td><td>0.7904759477254695</td><td>0</td><td>257.64542119950056</td><td>GALAXY</td><td>0.7904759477254695</td><td>N</td><td>9907738682592314</td><td>0.11429183</td><td>0.8775266</td><td>4.260575</td><td>0.11728023</td><td>0.8927855</td><td>4.3012385</td><td>0.3812214</td><td>2.9020145</td><td>13.981251</td><td>50.97459</td><td>23.004581</td><td>18.6144</td><td>1198.7163</td><td>198.77335</td><td>54.26674</td><td>19.03713</td><td>3.1698332</td><td>1.4330345</td><td>0.0068147928</td><td>8.964774e-05</td><td>0.008601599</td><td>0.9745192</td><td>0.98290867</td><td>0.99054605</td><td>0.9985433</td><td>0.99910516</td><td>0.9998091</td><td>0.99992794</td></tr>\n",
       "<tr><td>39633390160316324</td><td>sv3</td><td>dark</td><td>11237</td><td>452</td><td>188.28474975968498</td><td>60.192085286348515</td><td>0</td><td>0</td><td>0</td><td>0</td><td>0</td><td>0</td><td>0</td><td>0</td><td>0</td><td>0</td><td>0</td><td>0</td><td>5764607523034235137</td><td>257</td><td>0</td><td>0</td><td>0</td><td>17179869184</td><td>0.5525557882109178</td><td>0</td><td>641.6912649571896</td><td>GALAXY</td><td>0.5525557882109178</td><td>N</td><td>9907739794278308</td><td>0.85341036</td><td>2.5611491</td><td>7.6243033</td><td>0.88308525</td><td>2.6202912</td><td>7.7208176</td><td>2.7161078</td><td>8.0592375</td><td>23.74694</td><td>52.11489</td><td>32.995445</td><td>-75.198044</td><td>-880.0985</td><td>159.40988</td><td>45.655132</td><td>22.860043</td><td>2.5647373</td><td>0.85493976</td><td>0.0014150243</td><td>1.8488909e-05</td><td>0.01139098</td><td>0.96639633</td><td>0.97742915</td><td>0.9874995</td><td>0.99807143</td><td>0.9988152</td><td>0.9997472</td><td>0.9999045</td></tr>\n",
       "</table></div>"
      ],
      "text/plain": [
       "<Table length=118>\n",
       "     TARGETID     SURVEY PROGRAM ... MW_TRANSMISSION_W3 MW_TRANSMISSION_W4\n",
       "      int64        str7    str6  ...      float32            float32      \n",
       "----------------- ------ ------- ... ------------------ ------------------\n",
       " 1030495378866177    sv3    dark ...          0.9995357         0.99982464\n",
       " 1030495978651648    sv3    dark ...         0.99909747          0.9996591\n",
       " 1030495978651649    sv3    dark ...         0.99909747          0.9996591\n",
       " 1030507391352832    sv3    dark ...         0.99945396         0.99979377\n",
       " 1030507391352833    sv3    dark ...          0.9994498          0.9997922\n",
       " 1030507408130048    sv3    dark ...          0.9994558          0.9997945\n",
       " 1030507408130049    sv3    dark ...          0.9994558          0.9997945\n",
       " 1030507957583872    sv3    dark ...          0.9987507          0.9995281\n",
       " 1030513426956289    sv3    dark ...          0.9994107         0.99977744\n",
       " 1030514068684801    sv3    dark ...          0.9990753          0.9996507\n",
       "              ...    ...     ... ...                ...                ...\n",
       "39633153987445917    sv3    dark ...          0.9997167           0.999893\n",
       "39633158307580197    sv3    dark ...         0.99967337          0.9998767\n",
       "39633275227997573    sv3    dark ...         0.99971575         0.99989265\n",
       "39633290038086559    sv3  bright ...         0.99975497          0.9999075\n",
       "39633290038086559    sv3    dark ...         0.99975497          0.9999075\n",
       "39633300964245984    sv3    dark ...         0.99977833          0.9999163\n",
       "39633300964245984    sv3  bright ...         0.99977833          0.9999163\n",
       "39633315505900572    sv3    dark ...          0.9997524          0.9999065\n",
       "39633319012338746    sv3    dark ...          0.9998091         0.99992794\n",
       "39633390160316324    sv3    dark ...          0.9997472          0.9999045"
      ]
     },
     "execution_count": 3,
     "metadata": {},
     "output_type": "execute_result"
    }
   ],
   "source": [
    "strongLensTargs"
   ]
  },
  {
   "cell_type": "code",
   "execution_count": 9,
   "id": "b9d1c917-664a-4924-84b0-19d4bdee6b95",
   "metadata": {},
   "outputs": [],
   "source": [
    "def plotDesiSpectra(coaddSpec, targetID, figpath, ax=None, overwrite=False):\n",
    "    '''\n",
    "    coaddSpec [desispec] : desispec spectra object to plot\n",
    "    '''\n",
    "    \n",
    "    if not ax:\n",
    "        fig, ax = plt.subplots(figsize = (20, 6))\n",
    "    \n",
    "    # Plot the spectrum from each arm (B,R,Z) in blue, green, red\n",
    "    ax.plot(coaddSpec.wave['b'], coaddSpec.flux['b'][0], color = 'b', alpha = 0.5)\n",
    "    ax.plot(coaddSpec.wave['r'], coaddSpec.flux['r'][0], color = 'g', alpha = 0.5)\n",
    "    ax.plot(coaddSpec.wave['z'], coaddSpec.flux['z'][0], color = 'r', alpha = 0.5)\n",
    "    \n",
    "    # Over-plotting smoothed spectra in black for all the three arms\n",
    "    ax.plot(coaddSpec.wave['b'], convolve(coaddSpec.flux['b'][0], Gaussian1DKernel(5)), color = 'k')\n",
    "    ax.plot(coaddSpec.wave['r'], convolve(coaddSpec.flux['r'][0], Gaussian1DKernel(5)), color = 'k')\n",
    "    ax.plot(coaddSpec.wave['z'], convolve(coaddSpec.flux['z'][0], Gaussian1DKernel(5)), color = 'k')\n",
    "    ax.set_xlim([3500, 9900])\n",
    "    ax.set_xlabel('$\\lambda$ [$\\AA$]')\n",
    "    ax.set_ylabel('F$_{\\lambda}$ [$10^{-17} erg\\ s^{-1}\\ cm^{-2}\\ \\AA^{-1}$]')\n",
    "    \n",
    "    fig.savefig(figpath, bbox_inches='tight', transparent=False)\n",
    "    ax.clear()\n",
    "    plt.close(fig)\n",
    "    \n",
    "def getCoadd(targetID, targetList=strongLensTargs):\n",
    "    '''\n",
    "    Get the coadded spectra for a given targetID from a given targetlist\n",
    "    '''\n",
    "    \n",
    "    # define some directories\n",
    "    specprod = 'fuji'    # Internal name for the EDR\n",
    "    specprodDir = specprod_root(specprod)\n",
    "    healpixDir = f'{specprodDir}/healpix'\n",
    "    \n",
    "    # select only one row of the strongLensTargs\n",
    "    targ = targetList[targetList['TARGETID'] == targetID]\n",
    "    survey = targ['SURVEY'][0]\n",
    "    program = targ['PROGRAM'][0]\n",
    "    hpx = targ['HEALPIX'][0]\n",
    "\n",
    "    targDir = f'{healpixDir}/{survey}/{program}/{hpx//100}/{hpx}' # derive data directory holding spectra\n",
    "\n",
    "    # get coadded spectra\n",
    "    targCoaddFile = f'coadd-{survey}-{program}-{hpx}.fits'\n",
    "    targCoadd = read_spectra(os.path.join(targDir, targCoaddFile))\n",
    "    \n",
    "    return targCoadd"
   ]
  },
  {
   "cell_type": "code",
   "execution_count": 10,
   "id": "c6028f97-71e8-48e1-bf4d-dc4a86acf6ba",
   "metadata": {},
   "outputs": [
    {
     "ename": "NameError",
     "evalue": "name 'overwrite' is not defined",
     "output_type": "error",
     "traceback": [
      "\u001b[0;31m---------------------------------------------------------------------------\u001b[0m",
      "\u001b[0;31mNameError\u001b[0m                                 Traceback (most recent call last)",
      "\u001b[0;32m/tmp/ipykernel_7948/738177039.py\u001b[0m in \u001b[0;36m<module>\u001b[0;34m\u001b[0m\n\u001b[1;32m      8\u001b[0m \u001b[0;34m\u001b[0m\u001b[0m\n\u001b[1;32m      9\u001b[0m     \u001b[0mfigpath\u001b[0m \u001b[0;34m=\u001b[0m \u001b[0;34mf'KnownLensSpectra/LensSpec_ID{targetID}.jpeg'\u001b[0m\u001b[0;34m\u001b[0m\u001b[0;34m\u001b[0m\u001b[0m\n\u001b[0;32m---> 10\u001b[0;31m     \u001b[0;32mif\u001b[0m \u001b[0mos\u001b[0m\u001b[0;34m.\u001b[0m\u001b[0mpath\u001b[0m\u001b[0;34m.\u001b[0m\u001b[0mexists\u001b[0m\u001b[0;34m(\u001b[0m\u001b[0mfigpath\u001b[0m\u001b[0;34m)\u001b[0m \u001b[0;32mand\u001b[0m \u001b[0;32mnot\u001b[0m \u001b[0moverwrite\u001b[0m\u001b[0;34m:\u001b[0m\u001b[0;34m\u001b[0m\u001b[0;34m\u001b[0m\u001b[0m\n\u001b[0m\u001b[1;32m     11\u001b[0m         \u001b[0mprint\u001b[0m\u001b[0;34m(\u001b[0m\u001b[0;34mf'{figpath} already exists and overwrite is turned off'\u001b[0m\u001b[0;34m)\u001b[0m\u001b[0;34m\u001b[0m\u001b[0;34m\u001b[0m\u001b[0m\n\u001b[1;32m     12\u001b[0m         \u001b[0;32mcontinue\u001b[0m\u001b[0;34m\u001b[0m\u001b[0;34m\u001b[0m\u001b[0m\n",
      "\u001b[0;31mNameError\u001b[0m: name 'overwrite' is not defined"
     ]
    }
   ],
   "source": [
    "## get spectra corresponding to strong lens targets\n",
    "# first select a row in the strongLensTargs table to plot\n",
    "\n",
    "overwrite = False\n",
    "\n",
    "#idx = 100\n",
    "#targetID = strongLensTargs[idx]['TARGETID']\n",
    "\n",
    "for targetID in strongLensTargs['TARGETID']:\n",
    "    \n",
    "    figpath = f'KnownLensSpectra/LensSpec_ID{targetID}.jpeg'\n",
    "    if os.path.exists(figpath) and not overwrite:\n",
    "        print(f'{figpath} already exists and overwrite is turned off')\n",
    "        continue\n",
    "    \n",
    "    # get coadd corresponding to that targetID\n",
    "    targCoadd = getCoadd(targetID)\n",
    "\n",
    "    # plot them up\n",
    "    plotDesiSpectra(targCoadd, targetID, figpath)"
   ]
  },
  {
   "cell_type": "code",
   "execution_count": null,
   "id": "30cb5e3b-54a1-4a77-a70b-53f877cb685c",
   "metadata": {},
   "outputs": [],
   "source": []
  }
 ],
 "metadata": {
  "kernelspec": {
   "display_name": "DESI master",
   "language": "python",
   "name": "desi-master"
  },
  "language_info": {
   "codemirror_mode": {
    "name": "ipython",
    "version": 3
   },
   "file_extension": ".py",
   "mimetype": "text/x-python",
   "name": "python",
   "nbconvert_exporter": "python",
   "pygments_lexer": "ipython3",
   "version": "3.9.7"
  }
 },
 "nbformat": 4,
 "nbformat_minor": 5
}
